{
 "cells": [
  {
   "cell_type": "code",
   "execution_count": 1,
   "metadata": {},
   "outputs": [],
   "source": [
    "import open3d as o3d\n",
    "import copy\n",
    "import numpy as np\n",
    "from scipy.linalg import logm\n",
    "from scipy.spatial.transform import Rotation as R\n",
    "from scipy.optimize import fsolve\n",
    "from time import sleep\n",
    "from matplotlib import pyplot as plt "
   ]
  },
  {
   "cell_type": "markdown",
   "metadata": {},
   "source": [
    "#  2.1 - Point Cloud Registration"
   ]
  },
  {
   "cell_type": "code",
   "execution_count": null,
   "metadata": {},
   "outputs": [],
   "source": [
    "def readData(filename):\n",
    "    \"\"\"\n",
    "    reads the ground truth file \n",
    "    returns a 2D array with each \n",
    "    row as GT pose(arranged row major form)\n",
    "    array size should be 1101*12\n",
    "    \"\"\"\n",
    "    data = np.loadtxt(filename)\n",
    "    #data[i].reshape(3,4)\n",
    "    return data \n",
    "\n",
    "\n",
    "def readPointCloud(filename):\n",
    "    \"\"\"\n",
    "    reads bin file and returns\n",
    "    as m*4 np array\n",
    "    all points are in meters\n",
    "    you can filter out points beyond(in x y plane)\n",
    "    50m for ease of computation\n",
    "    and above or below 10m\n",
    "    \"\"\"\n",
    "    pcl = np.fromfile(filename, dtype=np.float32,count=-1)\n",
    "    pcl = pcl.reshape([-1,4])\n",
    "    return pcl \n"
   ]
  },
  {
   "cell_type": "markdown",
   "metadata": {},
   "source": [
    "# 2.2 - Occupancy Grid Construction"
   ]
  },
  {
   "cell_type": "code",
   "execution_count": null,
   "metadata": {},
   "outputs": [],
   "source": []
  }
 ],
 "metadata": {
  "kernelspec": {
   "display_name": "Python 3",
   "language": "python",
   "name": "python3"
  },
  "language_info": {
   "codemirror_mode": {
    "name": "ipython",
    "version": 3
   },
   "file_extension": ".py",
   "mimetype": "text/x-python",
   "name": "python",
   "nbconvert_exporter": "python",
   "pygments_lexer": "ipython3",
   "version": "3.8.5"
  }
 },
 "nbformat": 4,
 "nbformat_minor": 4
}
