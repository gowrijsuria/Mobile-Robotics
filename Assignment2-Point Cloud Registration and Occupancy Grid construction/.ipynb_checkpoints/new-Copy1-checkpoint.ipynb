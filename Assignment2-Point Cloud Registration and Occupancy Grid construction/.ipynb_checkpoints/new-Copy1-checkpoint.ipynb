{
 "cells": [
  {
   "cell_type": "code",
   "execution_count": 2,
   "metadata": {},
   "outputs": [],
   "source": [
    "import open3d as o3d\n",
    "import copy\n",
    "import numpy as np\n",
    "from scipy.linalg import logm\n",
    "from scipy.spatial.transform import Rotation as R\n",
    "from scipy.optimize import fsolve\n",
    "from time import sleep\n",
    "from matplotlib import pyplot as plt \n",
    "import os"
   ]
  },
  {
   "cell_type": "markdown",
   "metadata": {},
   "source": [
    "#   2.1 - Point Cloud Registration"
   ]
  },
  {
   "cell_type": "code",
   "execution_count": 3,
   "metadata": {},
   "outputs": [],
   "source": [
    "def readData(filename):\n",
    "    \"\"\"\n",
    "    reads the ground truth file \n",
    "    returns a 2D array with each \n",
    "    row as GT pose(arranged row major form)\n",
    "    array size should be 1101*12\n",
    "    \"\"\"\n",
    "    data = np.loadtxt(filename)\n",
    "#     data[i].reshape(3,4)\n",
    "    return data \n",
    "\n",
    "\n",
    "def readPointCloud(filename):\n",
    "    \"\"\"\n",
    "    reads bin file and returns\n",
    "    as m*4 np array\n",
    "    all points are in meters\n",
    "    you can filter out points beyond(in x y plane)\n",
    "    50m for ease of computation\n",
    "    and above or below 10m\n",
    "    \"\"\"\n",
    "    pcl = np.fromfile(filename, dtype=np.float32,count=-1)\n",
    "    pcl = pcl.reshape([-1,4])\n",
    "    return pcl "
   ]
  },
  {
   "cell_type": "code",
   "execution_count": 5,
   "metadata": {},
   "outputs": [],
   "source": [
    "path_bin = './dataset/01/'\n",
    "path_pose = './dataset/01.txt'\n",
    "poses_data = readData(path_pose)[:77]\n",
    "\n",
    "def find_rot_matrix(z_angle,y_angle,x_angle):\n",
    "    z_angle = np.deg2rad(z_angle)\n",
    "    y_angle = np.deg2rad(y_angle)\n",
    "    x_angle = np.deg2rad(x_angle)\n",
    "    \n",
    "    cosZ = np.cos(z_angle)\n",
    "    cosY = np.cos(y_angle)\n",
    "    cosX = np.cos(x_angle)\n",
    "    sinZ = np.sin(z_angle)\n",
    "    sinY = np.sin(y_angle)\n",
    "    sinX = np.sin(x_angle)\n",
    "        \n",
    "    rot_X_matrix = np.array([[1, 0, 0],\n",
    "                              [0, cosX, -sinX],\n",
    "                              [0, sinX, cosX]])\n",
    "    rot_Y_matrix = np.array([[cosY, 0, sinY],\n",
    "                              [0, 1, 0],\n",
    "                              [-sinY, 0, cosY]])\n",
    "    rot_Z_matrix = np.array([[cosZ, -sinZ, 0],\n",
    "                              [sinZ,  cosZ, 0],\n",
    "                              [0, 0, 1]])\n",
    "    \n",
    "    return rot_Z_matrix@rot_Y_matrix@rot_X_matrix\n",
    "\n",
    "\n",
    "rot_mat = np.eye(4)\n",
    "rot_mat[:3,:3] = find_rot_matrix(0,-90.0,90.0)\n",
    " \n",
    "\n",
    "point_cloud = []\n",
    "for file, pose_i in zip(sorted(os.listdir(path_bin)),poses_data):\n",
    "    fpath = os.path.join(path_bin,file)    \n",
    "    lidar_points = readPointCloud(fpath)[:,:3]\n",
    "    extra_ones = np.ones((len(lidar_points), 1))\n",
    "    lidar_points = np.append(lidar_points,extra_ones,axis = 1)    \n",
    "        \n",
    "    pose = pose_i.reshape(3,4)     \n",
    "    total_transf_mat = pose @ rot_mat\n",
    "    point_cloud_i = (total_transf_mat @ lidar_points.T).T\n",
    "    \n",
    "    pcd = o3d.geometry.PointCloud()\n",
    "    pcd.points = o3d.utility.Vector3dVector(point_cloud_i)\n",
    "    downpcd = pcd.voxel_down_sample(voxel_size=1)\n",
    "    point_cloud.append(downpcd)\n",
    "    \n",
    "o3d.visualization.draw_geometries(point_cloud)"
   ]
  },
  {
   "cell_type": "markdown",
   "metadata": {},
   "source": [
    "#  2.2 - Occupancy Grid Construction"
   ]
  },
  {
   "cell_type": "code",
   "execution_count": null,
   "metadata": {},
   "outputs": [],
   "source": []
  },
  {
   "cell_type": "code",
   "execution_count": null,
   "metadata": {},
   "outputs": [],
   "source": []
  }
 ],
 "metadata": {
  "kernelspec": {
   "display_name": "Python 3",
   "language": "python",
   "name": "python3"
  },
  "language_info": {
   "codemirror_mode": {
    "name": "ipython",
    "version": 3
   },
   "file_extension": ".py",
   "mimetype": "text/x-python",
   "name": "python",
   "nbconvert_exporter": "python",
   "pygments_lexer": "ipython3",
   "version": "3.6.10"
  }
 },
 "nbformat": 4,
 "nbformat_minor": 4
}
